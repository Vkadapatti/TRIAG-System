{
 "cells": [
  {
   "cell_type": "code",
   "execution_count": 2,
   "id": "b4a3de20-7670-477e-9ac3-a3afa435f911",
   "metadata": {},
   "outputs": [],
   "source": [
    "import pandas as pd\n",
    "import numpy as np\n",
    "import matplotlib.pyplot as plt\n",
    "%matplotlib inline\n",
    "import seaborn as sns\n",
    "from IPython import get_ipython\n",
    "import warnings\n",
    "warnings.filterwarnings(\"ignore\")"
   ]
  },
  {
   "cell_type": "code",
   "execution_count": 3,
   "id": "f27b3a42-3e81-470d-91a8-ede6ee316b99",
   "metadata": {},
   "outputs": [],
   "source": [
    "data = pd.read_csv('patient_priority.csv')\n"
   ]
  },
  {
   "cell_type": "code",
   "execution_count": 4,
   "id": "8176f7e9-87d1-49fb-9550-e67aa877042b",
   "metadata": {},
   "outputs": [
    {
     "data": {
      "text/html": [
       "<div>\n",
       "<style scoped>\n",
       "    .dataframe tbody tr th:only-of-type {\n",
       "        vertical-align: middle;\n",
       "    }\n",
       "\n",
       "    .dataframe tbody tr th {\n",
       "        vertical-align: top;\n",
       "    }\n",
       "\n",
       "    .dataframe thead th {\n",
       "        text-align: right;\n",
       "    }\n",
       "</style>\n",
       "<table border=\"1\" class=\"dataframe\">\n",
       "  <thead>\n",
       "    <tr style=\"text-align: right;\">\n",
       "      <th></th>\n",
       "      <th>SI NO</th>\n",
       "      <th>age</th>\n",
       "      <th>gender</th>\n",
       "      <th>chest pain type</th>\n",
       "      <th>blood pressure</th>\n",
       "      <th>cholesterol</th>\n",
       "      <th>max heart rate</th>\n",
       "      <th>exercise angina</th>\n",
       "      <th>plasma glucose</th>\n",
       "      <th>skin_thickness</th>\n",
       "      <th>insulin</th>\n",
       "      <th>bmi</th>\n",
       "      <th>diabetes_pedigree</th>\n",
       "      <th>hypertension</th>\n",
       "      <th>heart_disease</th>\n",
       "      <th>Residence_type</th>\n",
       "      <th>smoking_status</th>\n",
       "      <th>triage</th>\n",
       "    </tr>\n",
       "  </thead>\n",
       "  <tbody>\n",
       "    <tr>\n",
       "      <th>0</th>\n",
       "      <td>1</td>\n",
       "      <td>40</td>\n",
       "      <td>1.0</td>\n",
       "      <td>2</td>\n",
       "      <td>140</td>\n",
       "      <td>294</td>\n",
       "      <td>172</td>\n",
       "      <td>0</td>\n",
       "      <td>108.0</td>\n",
       "      <td>43</td>\n",
       "      <td>92</td>\n",
       "      <td>19.0</td>\n",
       "      <td>0.467386</td>\n",
       "      <td>0</td>\n",
       "      <td>0</td>\n",
       "      <td>Urban</td>\n",
       "      <td>never smoked</td>\n",
       "      <td>yellow</td>\n",
       "    </tr>\n",
       "    <tr>\n",
       "      <th>1</th>\n",
       "      <td>2</td>\n",
       "      <td>49</td>\n",
       "      <td>0.0</td>\n",
       "      <td>3</td>\n",
       "      <td>160</td>\n",
       "      <td>180</td>\n",
       "      <td>156</td>\n",
       "      <td>0</td>\n",
       "      <td>75.0</td>\n",
       "      <td>47</td>\n",
       "      <td>90</td>\n",
       "      <td>18.0</td>\n",
       "      <td>0.467386</td>\n",
       "      <td>0</td>\n",
       "      <td>0</td>\n",
       "      <td>Urban</td>\n",
       "      <td>never smoked</td>\n",
       "      <td>orange</td>\n",
       "    </tr>\n",
       "    <tr>\n",
       "      <th>2</th>\n",
       "      <td>3</td>\n",
       "      <td>37</td>\n",
       "      <td>1.0</td>\n",
       "      <td>2</td>\n",
       "      <td>130</td>\n",
       "      <td>294</td>\n",
       "      <td>156</td>\n",
       "      <td>0</td>\n",
       "      <td>98.0</td>\n",
       "      <td>53</td>\n",
       "      <td>102</td>\n",
       "      <td>23.0</td>\n",
       "      <td>0.467386</td>\n",
       "      <td>0</td>\n",
       "      <td>0</td>\n",
       "      <td>Urban</td>\n",
       "      <td>never smoked</td>\n",
       "      <td>yellow</td>\n",
       "    </tr>\n",
       "    <tr>\n",
       "      <th>3</th>\n",
       "      <td>4</td>\n",
       "      <td>48</td>\n",
       "      <td>0.0</td>\n",
       "      <td>4</td>\n",
       "      <td>138</td>\n",
       "      <td>214</td>\n",
       "      <td>156</td>\n",
       "      <td>1</td>\n",
       "      <td>72.0</td>\n",
       "      <td>51</td>\n",
       "      <td>118</td>\n",
       "      <td>18.0</td>\n",
       "      <td>0.467386</td>\n",
       "      <td>0</td>\n",
       "      <td>0</td>\n",
       "      <td>Urban</td>\n",
       "      <td>never smoked</td>\n",
       "      <td>orange</td>\n",
       "    </tr>\n",
       "    <tr>\n",
       "      <th>4</th>\n",
       "      <td>5</td>\n",
       "      <td>54</td>\n",
       "      <td>1.0</td>\n",
       "      <td>3</td>\n",
       "      <td>150</td>\n",
       "      <td>195</td>\n",
       "      <td>156</td>\n",
       "      <td>0</td>\n",
       "      <td>108.0</td>\n",
       "      <td>90</td>\n",
       "      <td>83</td>\n",
       "      <td>21.0</td>\n",
       "      <td>0.467386</td>\n",
       "      <td>0</td>\n",
       "      <td>0</td>\n",
       "      <td>Urban</td>\n",
       "      <td>never smoked</td>\n",
       "      <td>yellow</td>\n",
       "    </tr>\n",
       "    <tr>\n",
       "      <th>5</th>\n",
       "      <td>6</td>\n",
       "      <td>39</td>\n",
       "      <td>1.0</td>\n",
       "      <td>3</td>\n",
       "      <td>120</td>\n",
       "      <td>294</td>\n",
       "      <td>170</td>\n",
       "      <td>0</td>\n",
       "      <td>86.0</td>\n",
       "      <td>49</td>\n",
       "      <td>106</td>\n",
       "      <td>21.0</td>\n",
       "      <td>0.467386</td>\n",
       "      <td>0</td>\n",
       "      <td>0</td>\n",
       "      <td>Urban</td>\n",
       "      <td>never smoked</td>\n",
       "      <td>orange</td>\n",
       "    </tr>\n",
       "    <tr>\n",
       "      <th>6</th>\n",
       "      <td>7</td>\n",
       "      <td>45</td>\n",
       "      <td>0.0</td>\n",
       "      <td>2</td>\n",
       "      <td>130</td>\n",
       "      <td>237</td>\n",
       "      <td>170</td>\n",
       "      <td>0</td>\n",
       "      <td>116.0</td>\n",
       "      <td>39</td>\n",
       "      <td>97</td>\n",
       "      <td>23.0</td>\n",
       "      <td>0.467386</td>\n",
       "      <td>0</td>\n",
       "      <td>0</td>\n",
       "      <td>Urban</td>\n",
       "      <td>never smoked</td>\n",
       "      <td>yellow</td>\n",
       "    </tr>\n",
       "    <tr>\n",
       "      <th>7</th>\n",
       "      <td>8</td>\n",
       "      <td>54</td>\n",
       "      <td>1.0</td>\n",
       "      <td>2</td>\n",
       "      <td>110</td>\n",
       "      <td>208</td>\n",
       "      <td>142</td>\n",
       "      <td>0</td>\n",
       "      <td>124.0</td>\n",
       "      <td>82</td>\n",
       "      <td>103</td>\n",
       "      <td>19.0</td>\n",
       "      <td>0.467386</td>\n",
       "      <td>0</td>\n",
       "      <td>0</td>\n",
       "      <td>Urban</td>\n",
       "      <td>never smoked</td>\n",
       "      <td>yellow</td>\n",
       "    </tr>\n",
       "    <tr>\n",
       "      <th>8</th>\n",
       "      <td>9</td>\n",
       "      <td>37</td>\n",
       "      <td>1.0</td>\n",
       "      <td>4</td>\n",
       "      <td>140</td>\n",
       "      <td>207</td>\n",
       "      <td>142</td>\n",
       "      <td>1</td>\n",
       "      <td>84.0</td>\n",
       "      <td>67</td>\n",
       "      <td>120</td>\n",
       "      <td>22.0</td>\n",
       "      <td>0.467386</td>\n",
       "      <td>0</td>\n",
       "      <td>0</td>\n",
       "      <td>Urban</td>\n",
       "      <td>never smoked</td>\n",
       "      <td>orange</td>\n",
       "    </tr>\n",
       "    <tr>\n",
       "      <th>9</th>\n",
       "      <td>10</td>\n",
       "      <td>48</td>\n",
       "      <td>0.0</td>\n",
       "      <td>2</td>\n",
       "      <td>120</td>\n",
       "      <td>294</td>\n",
       "      <td>142</td>\n",
       "      <td>0</td>\n",
       "      <td>77.0</td>\n",
       "      <td>37</td>\n",
       "      <td>90</td>\n",
       "      <td>18.0</td>\n",
       "      <td>0.467386</td>\n",
       "      <td>0</td>\n",
       "      <td>0</td>\n",
       "      <td>Urban</td>\n",
       "      <td>never smoked</td>\n",
       "      <td>yellow</td>\n",
       "    </tr>\n",
       "  </tbody>\n",
       "</table>\n",
       "</div>"
      ],
      "text/plain": [
       "   SI NO  age  gender  chest pain type  blood pressure  cholesterol  \\\n",
       "0      1   40     1.0                2             140          294   \n",
       "1      2   49     0.0                3             160          180   \n",
       "2      3   37     1.0                2             130          294   \n",
       "3      4   48     0.0                4             138          214   \n",
       "4      5   54     1.0                3             150          195   \n",
       "5      6   39     1.0                3             120          294   \n",
       "6      7   45     0.0                2             130          237   \n",
       "7      8   54     1.0                2             110          208   \n",
       "8      9   37     1.0                4             140          207   \n",
       "9     10   48     0.0                2             120          294   \n",
       "\n",
       "   max heart rate  exercise angina  plasma glucose  skin_thickness  insulin  \\\n",
       "0             172                0           108.0              43       92   \n",
       "1             156                0            75.0              47       90   \n",
       "2             156                0            98.0              53      102   \n",
       "3             156                1            72.0              51      118   \n",
       "4             156                0           108.0              90       83   \n",
       "5             170                0            86.0              49      106   \n",
       "6             170                0           116.0              39       97   \n",
       "7             142                0           124.0              82      103   \n",
       "8             142                1            84.0              67      120   \n",
       "9             142                0            77.0              37       90   \n",
       "\n",
       "    bmi  diabetes_pedigree  hypertension  heart_disease Residence_type  \\\n",
       "0  19.0           0.467386             0              0          Urban   \n",
       "1  18.0           0.467386             0              0          Urban   \n",
       "2  23.0           0.467386             0              0          Urban   \n",
       "3  18.0           0.467386             0              0          Urban   \n",
       "4  21.0           0.467386             0              0          Urban   \n",
       "5  21.0           0.467386             0              0          Urban   \n",
       "6  23.0           0.467386             0              0          Urban   \n",
       "7  19.0           0.467386             0              0          Urban   \n",
       "8  22.0           0.467386             0              0          Urban   \n",
       "9  18.0           0.467386             0              0          Urban   \n",
       "\n",
       "  smoking_status  triage  \n",
       "0   never smoked  yellow  \n",
       "1   never smoked  orange  \n",
       "2   never smoked  yellow  \n",
       "3   never smoked  orange  \n",
       "4   never smoked  yellow  \n",
       "5   never smoked  orange  \n",
       "6   never smoked  yellow  \n",
       "7   never smoked  yellow  \n",
       "8   never smoked  orange  \n",
       "9   never smoked  yellow  "
      ]
     },
     "execution_count": 4,
     "metadata": {},
     "output_type": "execute_result"
    }
   ],
   "source": [
    "data.head(10)"
   ]
  },
  {
   "cell_type": "code",
   "execution_count": 5,
   "id": "10ecc6ad-3735-4a66-8961-e6b94005275b",
   "metadata": {},
   "outputs": [
    {
     "name": "stdout",
     "output_type": "stream",
     "text": [
      "<class 'pandas.core.frame.DataFrame'>\n",
      "RangeIndex: 72794 entries, 0 to 72793\n",
      "Data columns (total 18 columns):\n",
      " #   Column             Non-Null Count  Dtype  \n",
      "---  ------             --------------  -----  \n",
      " 0   SI NO              72794 non-null  int64  \n",
      " 1   age                72794 non-null  int64  \n",
      " 2   gender             72793 non-null  float64\n",
      " 3   chest pain type    72794 non-null  int64  \n",
      " 4   blood pressure     72794 non-null  int64  \n",
      " 5   cholesterol        72794 non-null  int64  \n",
      " 6   max heart rate     72794 non-null  int64  \n",
      " 7   exercise angina    72794 non-null  int64  \n",
      " 8   plasma glucose     72794 non-null  float64\n",
      " 9   skin_thickness     72794 non-null  int64  \n",
      " 10  insulin            72794 non-null  int64  \n",
      " 11  bmi                72794 non-null  float64\n",
      " 12  diabetes_pedigree  72794 non-null  float64\n",
      " 13  hypertension       72794 non-null  int64  \n",
      " 14  heart_disease      72794 non-null  int64  \n",
      " 15  Residence_type     72794 non-null  object \n",
      " 16  smoking_status     72794 non-null  object \n",
      " 17  triage             72382 non-null  object \n",
      "dtypes: float64(4), int64(11), object(3)\n",
      "memory usage: 10.0+ MB\n"
     ]
    }
   ],
   "source": [
    "data.info()"
   ]
  },
  {
   "cell_type": "code",
   "execution_count": 6,
   "id": "e024481f-d84e-4a1a-9dac-e10976578571",
   "metadata": {},
   "outputs": [
    {
     "data": {
      "text/html": [
       "<div>\n",
       "<style scoped>\n",
       "    .dataframe tbody tr th:only-of-type {\n",
       "        vertical-align: middle;\n",
       "    }\n",
       "\n",
       "    .dataframe tbody tr th {\n",
       "        vertical-align: top;\n",
       "    }\n",
       "\n",
       "    .dataframe thead th {\n",
       "        text-align: right;\n",
       "    }\n",
       "</style>\n",
       "<table border=\"1\" class=\"dataframe\">\n",
       "  <thead>\n",
       "    <tr style=\"text-align: right;\">\n",
       "      <th></th>\n",
       "      <th>SI NO</th>\n",
       "      <th>age</th>\n",
       "      <th>gender</th>\n",
       "      <th>chest pain type</th>\n",
       "      <th>blood pressure</th>\n",
       "      <th>cholesterol</th>\n",
       "      <th>max heart rate</th>\n",
       "      <th>exercise angina</th>\n",
       "      <th>plasma glucose</th>\n",
       "      <th>skin_thickness</th>\n",
       "      <th>insulin</th>\n",
       "      <th>bmi</th>\n",
       "      <th>diabetes_pedigree</th>\n",
       "      <th>hypertension</th>\n",
       "      <th>heart_disease</th>\n",
       "    </tr>\n",
       "  </thead>\n",
       "  <tbody>\n",
       "    <tr>\n",
       "      <th>count</th>\n",
       "      <td>72794.000000</td>\n",
       "      <td>72794.000000</td>\n",
       "      <td>72793.000000</td>\n",
       "      <td>72794.000000</td>\n",
       "      <td>72794.000000</td>\n",
       "      <td>72794.000000</td>\n",
       "      <td>72794.000000</td>\n",
       "      <td>72794.000000</td>\n",
       "      <td>72794.000000</td>\n",
       "      <td>72794.000000</td>\n",
       "      <td>72794.000000</td>\n",
       "      <td>72794.000000</td>\n",
       "      <td>72794.000000</td>\n",
       "      <td>72794.000000</td>\n",
       "      <td>72794.000000</td>\n",
       "    </tr>\n",
       "    <tr>\n",
       "      <th>mean</th>\n",
       "      <td>36397.500000</td>\n",
       "      <td>55.172940</td>\n",
       "      <td>0.505612</td>\n",
       "      <td>1.861802</td>\n",
       "      <td>112.221392</td>\n",
       "      <td>218.541308</td>\n",
       "      <td>169.334025</td>\n",
       "      <td>0.457290</td>\n",
       "      <td>124.294942</td>\n",
       "      <td>59.689617</td>\n",
       "      <td>1752.138967</td>\n",
       "      <td>37.460415</td>\n",
       "      <td>1.173121</td>\n",
       "      <td>0.457964</td>\n",
       "      <td>0.004822</td>\n",
       "    </tr>\n",
       "    <tr>\n",
       "      <th>std</th>\n",
       "      <td>21013.962085</td>\n",
       "      <td>15.542341</td>\n",
       "      <td>0.499972</td>\n",
       "      <td>1.468510</td>\n",
       "      <td>29.913608</td>\n",
       "      <td>42.643626</td>\n",
       "      <td>18.551740</td>\n",
       "      <td>0.498176</td>\n",
       "      <td>41.587921</td>\n",
       "      <td>22.779849</td>\n",
       "      <td>2335.288346</td>\n",
       "      <td>16.078177</td>\n",
       "      <td>0.683575</td>\n",
       "      <td>0.498233</td>\n",
       "      <td>0.069272</td>\n",
       "    </tr>\n",
       "    <tr>\n",
       "      <th>min</th>\n",
       "      <td>1.000000</td>\n",
       "      <td>28.000000</td>\n",
       "      <td>0.000000</td>\n",
       "      <td>0.000000</td>\n",
       "      <td>60.000000</td>\n",
       "      <td>150.000000</td>\n",
       "      <td>138.000000</td>\n",
       "      <td>0.000000</td>\n",
       "      <td>55.000000</td>\n",
       "      <td>21.000000</td>\n",
       "      <td>81.000000</td>\n",
       "      <td>10.300000</td>\n",
       "      <td>0.078000</td>\n",
       "      <td>0.000000</td>\n",
       "      <td>0.000000</td>\n",
       "    </tr>\n",
       "    <tr>\n",
       "      <th>25%</th>\n",
       "      <td>18199.250000</td>\n",
       "      <td>42.000000</td>\n",
       "      <td>0.000000</td>\n",
       "      <td>0.000000</td>\n",
       "      <td>87.000000</td>\n",
       "      <td>181.000000</td>\n",
       "      <td>153.000000</td>\n",
       "      <td>0.000000</td>\n",
       "      <td>88.000000</td>\n",
       "      <td>40.000000</td>\n",
       "      <td>119.000000</td>\n",
       "      <td>23.600000</td>\n",
       "      <td>0.481826</td>\n",
       "      <td>0.000000</td>\n",
       "      <td>0.000000</td>\n",
       "    </tr>\n",
       "    <tr>\n",
       "      <th>50%</th>\n",
       "      <td>36397.500000</td>\n",
       "      <td>55.000000</td>\n",
       "      <td>1.000000</td>\n",
       "      <td>2.000000</td>\n",
       "      <td>112.000000</td>\n",
       "      <td>216.000000</td>\n",
       "      <td>169.000000</td>\n",
       "      <td>0.000000</td>\n",
       "      <td>122.000000</td>\n",
       "      <td>60.000000</td>\n",
       "      <td>162.000000</td>\n",
       "      <td>36.256214</td>\n",
       "      <td>1.127408</td>\n",
       "      <td>0.000000</td>\n",
       "      <td>0.000000</td>\n",
       "    </tr>\n",
       "    <tr>\n",
       "      <th>75%</th>\n",
       "      <td>54595.750000</td>\n",
       "      <td>68.000000</td>\n",
       "      <td>1.000000</td>\n",
       "      <td>3.000000</td>\n",
       "      <td>137.000000</td>\n",
       "      <td>256.000000</td>\n",
       "      <td>185.000000</td>\n",
       "      <td>1.000000</td>\n",
       "      <td>160.000000</td>\n",
       "      <td>79.000000</td>\n",
       "      <td>3172.000000</td>\n",
       "      <td>51.300027</td>\n",
       "      <td>1.770320</td>\n",
       "      <td>1.000000</td>\n",
       "      <td>0.000000</td>\n",
       "    </tr>\n",
       "    <tr>\n",
       "      <th>max</th>\n",
       "      <td>72794.000000</td>\n",
       "      <td>82.000000</td>\n",
       "      <td>1.000000</td>\n",
       "      <td>4.000000</td>\n",
       "      <td>165.000000</td>\n",
       "      <td>294.000000</td>\n",
       "      <td>202.000000</td>\n",
       "      <td>1.000000</td>\n",
       "      <td>199.000000</td>\n",
       "      <td>99.000000</td>\n",
       "      <td>7723.000000</td>\n",
       "      <td>66.800000</td>\n",
       "      <td>2.420000</td>\n",
       "      <td>1.000000</td>\n",
       "      <td>1.000000</td>\n",
       "    </tr>\n",
       "  </tbody>\n",
       "</table>\n",
       "</div>"
      ],
      "text/plain": [
       "              SI NO           age        gender  chest pain type  \\\n",
       "count  72794.000000  72794.000000  72793.000000     72794.000000   \n",
       "mean   36397.500000     55.172940      0.505612         1.861802   \n",
       "std    21013.962085     15.542341      0.499972         1.468510   \n",
       "min        1.000000     28.000000      0.000000         0.000000   \n",
       "25%    18199.250000     42.000000      0.000000         0.000000   \n",
       "50%    36397.500000     55.000000      1.000000         2.000000   \n",
       "75%    54595.750000     68.000000      1.000000         3.000000   \n",
       "max    72794.000000     82.000000      1.000000         4.000000   \n",
       "\n",
       "       blood pressure   cholesterol  max heart rate  exercise angina  \\\n",
       "count    72794.000000  72794.000000    72794.000000     72794.000000   \n",
       "mean       112.221392    218.541308      169.334025         0.457290   \n",
       "std         29.913608     42.643626       18.551740         0.498176   \n",
       "min         60.000000    150.000000      138.000000         0.000000   \n",
       "25%         87.000000    181.000000      153.000000         0.000000   \n",
       "50%        112.000000    216.000000      169.000000         0.000000   \n",
       "75%        137.000000    256.000000      185.000000         1.000000   \n",
       "max        165.000000    294.000000      202.000000         1.000000   \n",
       "\n",
       "       plasma glucose  skin_thickness       insulin           bmi  \\\n",
       "count    72794.000000    72794.000000  72794.000000  72794.000000   \n",
       "mean       124.294942       59.689617   1752.138967     37.460415   \n",
       "std         41.587921       22.779849   2335.288346     16.078177   \n",
       "min         55.000000       21.000000     81.000000     10.300000   \n",
       "25%         88.000000       40.000000    119.000000     23.600000   \n",
       "50%        122.000000       60.000000    162.000000     36.256214   \n",
       "75%        160.000000       79.000000   3172.000000     51.300027   \n",
       "max        199.000000       99.000000   7723.000000     66.800000   \n",
       "\n",
       "       diabetes_pedigree  hypertension  heart_disease  \n",
       "count       72794.000000  72794.000000   72794.000000  \n",
       "mean            1.173121      0.457964       0.004822  \n",
       "std             0.683575      0.498233       0.069272  \n",
       "min             0.078000      0.000000       0.000000  \n",
       "25%             0.481826      0.000000       0.000000  \n",
       "50%             1.127408      0.000000       0.000000  \n",
       "75%             1.770320      1.000000       0.000000  \n",
       "max             2.420000      1.000000       1.000000  "
      ]
     },
     "execution_count": 6,
     "metadata": {},
     "output_type": "execute_result"
    }
   ],
   "source": [
    "data.describe()\n"
   ]
  },
  {
   "cell_type": "markdown",
   "id": "b14c5286-66f2-4958-bb8d-bac3cbfa4ea1",
   "metadata": {},
   "source": [
    "PRE-PROCESSING\n",
    "\n"
   ]
  },
  {
   "cell_type": "code",
   "execution_count": 7,
   "id": "023a9a75-1293-4ee2-995c-8931b517c00a",
   "metadata": {},
   "outputs": [
    {
     "name": "stdout",
     "output_type": "stream",
     "text": [
      "SI NO                  0\n",
      "age                    0\n",
      "gender                 1\n",
      "chest pain type        0\n",
      "blood pressure         0\n",
      "cholesterol            0\n",
      "max heart rate         0\n",
      "exercise angina        0\n",
      "plasma glucose         0\n",
      "skin_thickness         0\n",
      "insulin                0\n",
      "bmi                    0\n",
      "diabetes_pedigree      0\n",
      "hypertension           0\n",
      "heart_disease          0\n",
      "Residence_type         0\n",
      "smoking_status         0\n",
      "triage               412\n",
      "dtype: int64\n"
     ]
    }
   ],
   "source": [
    "missing_values = data.isnull().sum()\n",
    "print(missing_values)"
   ]
  },
  {
   "cell_type": "code",
   "execution_count": 8,
   "id": "eb8221c7-7735-4a0d-b1bf-1d0efb9a2669",
   "metadata": {},
   "outputs": [],
   "source": [
    "data.dropna(inplace=True)"
   ]
  },
  {
   "cell_type": "markdown",
   "id": "f31c6949-c733-4c94-b6ba-cea0e5d30370",
   "metadata": {},
   "source": [
    "\n",
    "data.to_csv('newpatient_priority.csv', index=False)\n"
   ]
  },
  {
   "cell_type": "code",
   "execution_count": 9,
   "id": "9b21c618-8269-4100-91d4-bfa279539400",
   "metadata": {},
   "outputs": [
    {
     "data": {
      "text/plain": [
       "SI NO                0\n",
       "age                  0\n",
       "gender               0\n",
       "chest pain type      0\n",
       "blood pressure       0\n",
       "cholesterol          0\n",
       "max heart rate       0\n",
       "exercise angina      0\n",
       "plasma glucose       0\n",
       "skin_thickness       0\n",
       "insulin              0\n",
       "bmi                  0\n",
       "diabetes_pedigree    0\n",
       "hypertension         0\n",
       "heart_disease        0\n",
       "Residence_type       0\n",
       "smoking_status       0\n",
       "triage               0\n",
       "dtype: int64"
      ]
     },
     "execution_count": 9,
     "metadata": {},
     "output_type": "execute_result"
    }
   ],
   "source": [
    "data.isna().sum()"
   ]
  },
  {
   "cell_type": "markdown",
   "id": "af9cc56a-c3e9-4b33-96fa-668fe3cb20ee",
   "metadata": {},
   "source": [
    "GRAPH\n"
   ]
  },
  {
   "cell_type": "code",
   "execution_count": 10,
   "id": "edd9920b-b148-4c1b-b09a-9c17fb8bfb28",
   "metadata": {},
   "outputs": [
    {
     "data": {
      "image/png": "[encoded data removed]",
      "text/plain": [
       "<Figure size 640x480 with 1 Axes>"
      ]
     },
     "metadata": {},
     "output_type": "display_data"
    }
   ],
   "source": [
    "# Histogram\n",
    "plt.hist(data['age'], bins=10)\n",
    "plt.xlabel('Numerical Variable')\n",
    "plt.ylabel('Frequency')\n",
    "plt.title('Histogram of Numerical Variable')\n",
    "plt.show()"
   ]
  },
  {
   "cell_type": "code",
   "execution_count": 11,
   "id": "9080a3c6-940e-468e-8494-a69c08294fb9",
   "metadata": {},
   "outputs": [
    {
     "data": {
      "image/png": "[encoded data removed]",
      "text/plain": [
       "<Figure size 1000x600 with 1 Axes>"
      ]
     },
     "metadata": {},
     "output_type": "display_data"
    }
   ],
   "source": [
    "plt.figure(figsize=(10, 6))\n",
    "for triage_value in data['triage'].unique():\n",
    "    plt.hist(data[data['triage'] == triage_value]['blood pressure'], bins=10, alpha=0.5, label=triage_value)\n",
    "plt.xlabel('Blood Pressure')\n",
    "plt.ylabel('Frequency')\n",
    "plt.title('Histogram of Blood Pressure with respect to Triage')\n",
    "plt.legend()\n",
    "plt.show()\n"
   ]
  },
  {
   "cell_type": "code",
   "execution_count": 12,
   "id": "da715804-92ad-4b39-85f3-aee047b839c6",
   "metadata": {},
   "outputs": [
    {
     "data": {
      "image/png": "[encoded data removed]",
      "text/plain": [
       "<Figure size 1000x600 with 1 Axes>"
      ]
     },
     "metadata": {},
     "output_type": "display_data"
    }
   ],
   "source": [
    "plt.figure(figsize=(10, 6))\n",
    "sns.boxplot(x='triage', y='cholesterol', data=data)\n",
    "plt.xlabel('Triage')\n",
    "plt.ylabel('Cholesterol')\n",
    "plt.title('Boxplot of Cholesterol with respect to Triage')\n",
    "plt.show()\n"
   ]
  },
  {
   "cell_type": "code",
   "execution_count": 13,
   "id": "801cf2b6-38ed-40a8-80ff-71c918c19e33",
   "metadata": {},
   "outputs": [
    {
     "ename": "NameError",
     "evalue": "name 'correlation_matrix' is not defined",
     "output_type": "error",
     "traceback": [
      "\u001b[1;31m---------------------------------------------------------------------------\u001b[0m",
      "\u001b[1;31mNameError\u001b[0m                                 Traceback (most recent call last)",
      "Cell \u001b[1;32mIn[13], line 2\u001b[0m\n\u001b[0;32m      1\u001b[0m plt\u001b[38;5;241m.\u001b[39mfigure(figsize\u001b[38;5;241m=\u001b[39m(\u001b[38;5;241m10\u001b[39m, \u001b[38;5;241m8\u001b[39m))\n\u001b[1;32m----> 2\u001b[0m sns\u001b[38;5;241m.\u001b[39mheatmap(\u001b[43mcorrelation_matrix\u001b[49m, annot\u001b[38;5;241m=\u001b[39m\u001b[38;5;28;01mTrue\u001b[39;00m, cbar\u001b[38;5;241m=\u001b[39m\u001b[38;5;28;01mTrue\u001b[39;00m, cmap\u001b[38;5;241m=\u001b[39m\u001b[38;5;124m'\u001b[39m\u001b[38;5;124mcoolwarm\u001b[39m\u001b[38;5;124m'\u001b[39m)\n\u001b[0;32m      3\u001b[0m plt\u001b[38;5;241m.\u001b[39mtitle(\u001b[38;5;124m'\u001b[39m\u001b[38;5;124mHeatmap of Correlation Matrix\u001b[39m\u001b[38;5;124m'\u001b[39m)\n\u001b[0;32m      4\u001b[0m plt\u001b[38;5;241m.\u001b[39mshow()\n",
      "\u001b[1;31mNameError\u001b[0m: name 'correlation_matrix' is not defined"
     ]
    },
    {
     "data": {
      "text/plain": [
       "<Figure size 1000x800 with 0 Axes>"
      ]
     },
     "metadata": {},
     "output_type": "display_data"
    }
   ],
   "source": [
    "plt.figure(figsize=(10, 8))\n",
    "sns.heatmap(correlation_matrix, annot=True, cbar=True, cmap='coolwarm')\n",
    "plt.title('Heatmap of Correlation Matrix')\n",
    "plt.show()\n",
    "\n",
    "\n"
   ]
  },
  {
   "cell_type": "code",
   "execution_count": 14,
   "id": "deb4caaf-7c5d-4c29-807b-08e41bf6a859",
   "metadata": {},
   "outputs": [
    {
     "data": {
      "image/png": "[encoded data removed]",
      "text/plain": [
       "<Figure size 800x600 with 1 Axes>"
      ]
     },
     "metadata": {},
     "output_type": "display_data"
    }
   ],
   "source": [
    "\n",
    "triage_counts = data['triage'].value_counts()\n",
    "\n",
    "\n",
    "plt.figure(figsize=(8, 6))\n",
    "plt.pie(triage_counts, labels=triage_counts.index, autopct='%1.1f%%', startangle=140)\n",
    "plt.title('Pie Chart of Triage Distribution')\n",
    "plt.axis('equal')  # Equal aspect ratio ensures that pie is drawn as a circle.\n",
    "plt.show()\n"
   ]
  },
  {
   "cell_type": "code",
   "execution_count": 15,
   "id": "2ae67233-6449-4db6-af39-c9c53a0a34e7",
   "metadata": {},
   "outputs": [
    {
     "data": {
      "text/plain": [
       "triage\n",
       "yellow    70880\n",
       "green       690\n",
       "orange      647\n",
       "red         164\n",
       "Name: count, dtype: int64"
      ]
     },
     "execution_count": 15,
     "metadata": {},
     "output_type": "execute_result"
    }
   ],
   "source": [
    "data['triage'].value_counts()"
   ]
  },
  {
   "cell_type": "code",
   "execution_count": 16,
   "id": "c95cfd4f-dde1-4dc8-abae-bddc9b42749a",
   "metadata": {},
   "outputs": [],
   "source": [
    "\n",
    "x = data.drop('triage', axis=1)\n",
    "y = data['triage']\n",
    "\n",
    "\n",
    "from sklearn.model_selection import train_test_split\n",
    "x_train, x_test, y_train, y_test = train_test_split(x, y, test_size=0.2, random_state=42)\n",
    "\n",
    "x_train, x_test, y_train, y_test = train_test_split(x, y, test_size=0.2, random_state=42)\n"
   ]
  },
  {
   "cell_type": "code",
   "execution_count": 17,
   "id": "b15216d2-d023-4b0e-8bb5-cbbc5187c5a0",
   "metadata": {},
   "outputs": [
    {
     "name": "stdout",
     "output_type": "stream",
     "text": [
      "<class 'pandas.core.frame.DataFrame'>\n",
      "Index: 57904 entries, 26970 to 16208\n",
      "Data columns (total 17 columns):\n",
      " #   Column             Non-Null Count  Dtype  \n",
      "---  ------             --------------  -----  \n",
      " 0   SI NO              57904 non-null  int64  \n",
      " 1   age                57904 non-null  int64  \n",
      " 2   gender             57904 non-null  float64\n",
      " 3   chest pain type    57904 non-null  int64  \n",
      " 4   blood pressure     57904 non-null  int64  \n",
      " 5   cholesterol        57904 non-null  int64  \n",
      " 6   max heart rate     57904 non-null  int64  \n",
      " 7   exercise angina    57904 non-null  int64  \n",
      " 8   plasma glucose     57904 non-null  float64\n",
      " 9   skin_thickness     57904 non-null  int64  \n",
      " 10  insulin            57904 non-null  int64  \n",
      " 11  bmi                57904 non-null  float64\n",
      " 12  diabetes_pedigree  57904 non-null  float64\n",
      " 13  hypertension       57904 non-null  int64  \n",
      " 14  heart_disease      57904 non-null  int64  \n",
      " 15  Residence_type     57904 non-null  object \n",
      " 16  smoking_status     57904 non-null  object \n",
      "dtypes: float64(4), int64(11), object(2)\n",
      "memory usage: 8.0+ MB\n"
     ]
    },
    {
     "data": {
      "text/plain": [
       "(57904, 17)"
      ]
     },
     "execution_count": 17,
     "metadata": {},
     "output_type": "execute_result"
    }
   ],
   "source": [
    "x_train.info()\n",
    "x_train.shape"
   ]
  },
  {
   "cell_type": "code",
   "execution_count": 18,
   "id": "385b63cc-a178-4e67-aeeb-38f5baa8ff02",
   "metadata": {},
   "outputs": [
    {
     "name": "stdout",
     "output_type": "stream",
     "text": [
      "Fitting logistic_regression_model...\n",
      "logistic_regression_model with accuracy: 0.9801754507149272\n",
      "Fitting svm_model...\n",
      "svm_model with accuracy: 0.9794846998687573\n",
      "Fitting decision_tree_model...\n",
      "decision_tree_model with accuracy: 0.9976514471230227\n",
      "Fitting random_forest_model...\n",
      "random_forest_model with accuracy: 0.9933687918767701\n",
      "Fitting knn_model...\n",
      "knn_model with accuracy: 0.9883953857843476\n",
      "Fitting gradient_boosting_model...\n",
      "gradient_boosting_model with accuracy: 0.996615320853768\n",
      "Fitting naive_bayes_model...\n",
      "naive_bayes_model with accuracy: 0.9456379084064378\n",
      "Fitting bagging_model...\n",
      "bagging_model with accuracy: 0.9982731228845755\n",
      "Fitting adaboost_model...\n",
      "adaboost_model with accuracy: 0.9777578227533329\n"
     ]
    }
   ],
   "source": [
    "from sklearn.linear_model import LogisticRegression\n",
    "from sklearn.svm import SVC\n",
    "from sklearn.tree import DecisionTreeClassifier\n",
    "from sklearn.ensemble import RandomForestClassifier\n",
    "from sklearn.neighbors import KNeighborsClassifier\n",
    "from sklearn.ensemble import GradientBoostingClassifier\n",
    "from sklearn.naive_bayes import GaussianNB\n",
    "from sklearn.ensemble import BaggingClassifier\n",
    "from sklearn.ensemble import AdaBoostClassifier\n",
    "from sklearn.metrics import accuracy_score\n",
    "from sklearn.model_selection import train_test_split\n",
    "import pandas as pd\n",
    "\n",
    "\n",
    "\n",
    "# Perform one-hot encoding for categorical variables\n",
    "x_train_encoded = pd.get_dummies(x_train)\n",
    "x_test_encoded = pd.get_dummies(x_test)\n",
    "\n",
    "models = {\n",
    "    'logistic_regression_model': LogisticRegression(),\n",
    "    'svm_model': SVC(),\n",
    "    'decision_tree_model': DecisionTreeClassifier(),\n",
    "    'random_forest_model': RandomForestClassifier(),\n",
    "    'knn_model': KNeighborsClassifier(),\n",
    "    'gradient_boosting_model': GradientBoostingClassifier(),\n",
    "    'naive_bayes_model': GaussianNB(),\n",
    "    'bagging_model': BaggingClassifier(),\n",
    "    'adaboost_model': AdaBoostClassifier(),\n",
    "}\n",
    "\n",
    "for name, md in models.items():\n",
    "    print(f\"Fitting {name}...\")\n",
    "    md.fit(x_train_encoded, y_train)\n",
    "    y_pred = md.predict(x_test_encoded)\n",
    "    print(f\"{name} with accuracy: {accuracy_score(y_test, y_pred)}\")\n"
   ]
  },
  {
   "cell_type": "code",
   "execution_count": 19,
   "id": "bb89803a-cfe8-4d95-ab59-a09d6a35c60c",
   "metadata": {},
   "outputs": [
    {
     "data": {
      "image/png": "[encoded data removed]",
      "text/plain": [
       "<Figure size 1000x600 with 1 Axes>"
      ]
     },
     "metadata": {},
     "output_type": "display_data"
    }
   ],
   "source": [
    "import matplotlib.pyplot as plt\n",
    "\n",
    "accuracy_scores = {\n",
    "    'logistic_regression_model': 0.9801754507149272,\n",
    "    'svm_model': 0.9794846998687573,\n",
    "    'decision_tree_model': 0.9977895972922567,\n",
    "    'random_forest_model': 0.9928852662844512,\n",
    "    'knn_model': 0.9883953857843476,\n",
    "    'gradient_boosting_model': 0.996615320853768,\n",
    "    'naive_bayes_model': 0.9456379084064378,\n",
    "    'bagging_model': 0.9980658976307246,\n",
    "    'adaboost_model': 0.9777578227533329\n",
    "}\n",
    "\n",
    "# Plotting the accuracies\n",
    "plt.figure(figsize=(10, 6))\n",
    "plt.bar(accuracy_scores.keys(), accuracy_scores.values(), color='skyblue')\n",
    "plt.xlabel('Model')\n",
    "plt.ylabel('Accuracy')\n",
    "plt.title('Accuracy of Different Models')\n",
    "plt.xticks(rotation=45, ha='right')\n",
    "plt.ylim(0.9, 1.0)  # Setting y-axis limit for better visualization\n",
    "plt.tight_layout()\n",
    "plt.show()\n"
   ]
  },
  {
   "cell_type": "code",
   "execution_count": 20,
   "id": "2fb004d7-724a-4c08-8648-5857750593e9",
   "metadata": {},
   "outputs": [
    {
     "data": {
      "text/plain": [
       "SI NO                  int64\n",
       "age                    int64\n",
       "gender               float64\n",
       "chest pain type        int64\n",
       "blood pressure         int64\n",
       "cholesterol            int64\n",
       "max heart rate         int64\n",
       "exercise angina        int64\n",
       "plasma glucose       float64\n",
       "skin_thickness         int64\n",
       "insulin                int64\n",
       "bmi                  float64\n",
       "diabetes_pedigree    float64\n",
       "hypertension           int64\n",
       "heart_disease          int64\n",
       "Residence_type        object\n",
       "smoking_status        object\n",
       "triage                object\n",
       "dtype: object"
      ]
     },
     "execution_count": 20,
     "metadata": {},
     "output_type": "execute_result"
    }
   ],
   "source": [
    "data.dtypes\n"
   ]
  },
  {
   "cell_type": "markdown",
   "id": "a67099b7-6c36-4fc5-a795-0ad165e4fd77",
   "metadata": {},
   "source": [
    "REMOVE UNWANTED COLUMN\n"
   ]
  },
  {
   "cell_type": "code",
   "execution_count": 21,
   "id": "d70aaf82-bb57-464f-b963-c41c4d032988",
   "metadata": {},
   "outputs": [
    {
     "data": {
      "text/plain": [
       "array([[ 40.        ,   1.        ,   2.        , 140.        ,\n",
       "        294.        , 172.        , 108.        ,  92.        ,\n",
       "         19.        ,   0.46738601,   0.        ,   0.        ],\n",
       "       [ 49.        ,   0.        ,   3.        , 160.        ,\n",
       "        180.        , 156.        ,  75.        ,  90.        ,\n",
       "         18.        ,   0.46738601,   0.        ,   0.        ],\n",
       "       [ 37.        ,   1.        ,   2.        , 130.        ,\n",
       "        294.        , 156.        ,  98.        , 102.        ,\n",
       "         23.        ,   0.46738601,   0.        ,   0.        ],\n",
       "       [ 48.        ,   0.        ,   4.        , 138.        ,\n",
       "        214.        , 156.        ,  72.        , 118.        ,\n",
       "         18.        ,   0.46738601,   0.        ,   0.        ],\n",
       "       [ 54.        ,   1.        ,   3.        , 150.        ,\n",
       "        195.        , 156.        , 108.        ,  83.        ,\n",
       "         21.        ,   0.46738601,   0.        ,   0.        ]])"
      ]
     },
     "execution_count": 21,
     "metadata": {},
     "output_type": "execute_result"
    }
   ],
   "source": [
    "import pandas as pd\n",
    "import numpy as np\n",
    "\n",
    "data = pd.read_csv('newpatient_priority.csv')\n",
    "\n",
    "feature_data = data[['age', 'gender', 'chest pain type', 'blood pressure',\n",
    "                     'cholesterol', 'max heart rate', 'plasma glucose', 'insulin', \n",
    "                     'bmi', 'diabetes_pedigree', 'hypertension', 'heart_disease']]\n",
    "\n",
    "x = np.asarray(feature_data)\n",
    "\n",
    "y =  np.asarray(data['triage'])\n",
    "\n",
    "x[0:5]\n",
    "\n"
   ]
  },
  {
   "cell_type": "code",
   "execution_count": 22,
   "id": "663baa77-64a4-40da-bd64-40b713595273",
   "metadata": {},
   "outputs": [
    {
     "data": {
      "text/plain": [
       "array(['yellow', 'orange', 'yellow', 'orange', 'yellow'], dtype=object)"
      ]
     },
     "execution_count": 22,
     "metadata": {},
     "output_type": "execute_result"
    }
   ],
   "source": [
    "y[0:5]"
   ]
  },
  {
   "cell_type": "markdown",
   "id": "7551d739-3273-4dc1-945f-f79776fd6c6e",
   "metadata": {},
   "source": [
    "SVM"
   ]
  },
  {
   "cell_type": "code",
   "execution_count": 23,
   "id": "be57175d-c3e1-4f7a-ae5b-7514a7bd336d",
   "metadata": {},
   "outputs": [
    {
     "name": "stdout",
     "output_type": "stream",
     "text": [
      "Accuracy: 0.9794846998687573\n",
      "Precision: 0.9593902772769897\n",
      "Recall: 0.9794846998687573\n",
      "F1-Score: 0.9693333596774943\n",
      "Cohen's Kappa: 0.0\n",
      "Confusion Matrix:\n",
      "[[    0     0     0   134]\n",
      " [    0     0     0   126]\n",
      " [    0     0     0    37]\n",
      " [    0     0     0 14180]]\n",
      "Classification Report:\n",
      "              precision    recall  f1-score   support\n",
      "\n",
      "       green       0.00      0.00      0.00       134\n",
      "      orange       0.00      0.00      0.00       126\n",
      "         red       0.00      0.00      0.00        37\n",
      "      yellow       0.98      1.00      0.99     14180\n",
      "\n",
      "    accuracy                           0.98     14477\n",
      "   macro avg       0.24      0.25      0.25     14477\n",
      "weighted avg       0.96      0.98      0.97     14477\n",
      "\n"
     ]
    }
   ],
   "source": [
    "from sklearn.metrics import precision_score, recall_score, f1_score, cohen_kappa_score, confusion_matrix, classification_report\n",
    "\n",
    "\n",
    "\n",
    "\n",
    "svm_model = SVC()\n",
    "svm_model.fit(x_train_encoded, y_train)\n",
    "y_pred = svm_model.predict(x_test_encoded)\n",
    "\n",
    "\n",
    "accuracy = accuracy_score(y_test, y_pred)\n",
    "precision = precision_score(y_test, y_pred, average='weighted')\n",
    "recall = recall_score(y_test, y_pred, average='weighted')\n",
    "f1 = f1_score(y_test, y_pred, average='weighted')\n",
    "kappa = cohen_kappa_score(y_test, y_pred)\n",
    "\n",
    "\n",
    "print(f\"Accuracy: {accuracy}\")\n",
    "print(f\"Precision: {precision}\")\n",
    "print(f\"Recall: {recall}\")\n",
    "print(f\"F1-Score: {f1}\")\n",
    "print(f\"Cohen's Kappa: {kappa}\")\n",
    "\n",
    "\n",
    "cm = confusion_matrix(y_test, y_pred)\n",
    "print(\"Confusion Matrix:\")\n",
    "print(cm)\n",
    "\n",
    "\n",
    "report = classification_report(y_test, y_pred)\n",
    "print(\"Classification Report:\")\n",
    "print(report)\n"
   ]
  },
  {
   "cell_type": "code",
   "execution_count": 24,
   "id": "40a70b9d-bca4-4189-b698-5cb5de7d01a1",
   "metadata": {},
   "outputs": [
    {
     "data": {
      "image/png": "[encoded data removed]",
      "text/plain": [
       "<Figure size 640x480 with 1 Axes>"
      ]
     },
     "metadata": {},
     "output_type": "display_data"
    }
   ],
   "source": [
    "y_train.value_counts().plot(kind='bar')\n",
    "plt.title('Class Distribution in Training Set')\n",
    "plt.xlabel('Class')\n",
    "plt.ylabel('Frequency')\n",
    "plt.show()\n"
   ]
  },
  {
   "cell_type": "code",
   "execution_count": 26,
   "id": "fd4e8e6e-4e08-4e55-a7b6-45bdf3609522",
   "metadata": {},
   "outputs": [],
   "source": [
    "from imblearn.over_sampling import SMOTE\n",
    "\n",
    "\n",
    "smote = SMOTE(random_state=42)\n",
    "x_train_resampled, y_train_resampled = smote.fit_resample(x_train, y_train)\n"
   ]
  },
  {
   "cell_type": "code",
   "execution_count": 37,
   "id": "1240e1e0-d4de-4c70-8368-520d871372ce",
   "metadata": {},
   "outputs": [
    {
     "data": {
      "text/html": [
       "<style>#sk-container-id-1 {color: black;}#sk-container-id-1 pre{padding: 0;}#sk-container-id-1 div.sk-toggleable {background-color: white;}#sk-container-id-1 label.sk-toggleable__label {cursor: pointer;display: block;width: 100%;margin-bottom: 0;padding: 0.3em;box-sizing: border-box;text-align: center;}#sk-container-id-1 label.sk-toggleable__label-arrow:before {content: \"▸\";float: left;margin-right: 0.25em;color: #696969;}#sk-container-id-1 label.sk-toggleable__label-arrow:hover:before {color: black;}#sk-container-id-1 div.sk-estimator:hover label.sk-toggleable__label-arrow:before {color: black;}#sk-container-id-1 div.sk-toggleable__content {max-height: 0;max-width: 0;overflow: hidden;text-align: left;background-color: #f0f8ff;}#sk-container-id-1 div.sk-toggleable__content pre {margin: 0.2em;color: black;border-radius: 0.25em;background-color: #f0f8ff;}#sk-container-id-1 input.sk-toggleable__control:checked~div.sk-toggleable__content {max-height: 200px;max-width: 100%;overflow: auto;}#sk-container-id-1 input.sk-toggleable__control:checked~label.sk-toggleable__label-arrow:before {content: \"▾\";}#sk-container-id-1 div.sk-estimator input.sk-toggleable__control:checked~label.sk-toggleable__label {background-color: #d4ebff;}#sk-container-id-1 div.sk-label input.sk-toggleable__control:checked~label.sk-toggleable__label {background-color: #d4ebff;}#sk-container-id-1 input.sk-hidden--visually {border: 0;clip: rect(1px 1px 1px 1px);clip: rect(1px, 1px, 1px, 1px);height: 1px;margin: -1px;overflow: hidden;padding: 0;position: absolute;width: 1px;}#sk-container-id-1 div.sk-estimator {font-family: monospace;background-color: #f0f8ff;border: 1px dotted black;border-radius: 0.25em;box-sizing: border-box;margin-bottom: 0.5em;}#sk-container-id-1 div.sk-estimator:hover {background-color: #d4ebff;}#sk-container-id-1 div.sk-parallel-item::after {content: \"\";width: 100%;border-bottom: 1px solid gray;flex-grow: 1;}#sk-container-id-1 div.sk-label:hover label.sk-toggleable__label {background-color: #d4ebff;}#sk-container-id-1 div.sk-serial::before {content: \"\";position: absolute;border-left: 1px solid gray;box-sizing: border-box;top: 0;bottom: 0;left: 50%;z-index: 0;}#sk-container-id-1 div.sk-serial {display: flex;flex-direction: column;align-items: center;background-color: white;padding-right: 0.2em;padding-left: 0.2em;position: relative;}#sk-container-id-1 div.sk-item {position: relative;z-index: 1;}#sk-container-id-1 div.sk-parallel {display: flex;align-items: stretch;justify-content: center;background-color: white;position: relative;}#sk-container-id-1 div.sk-item::before, #sk-container-id-1 div.sk-parallel-item::before {content: \"\";position: absolute;border-left: 1px solid gray;box-sizing: border-box;top: 0;bottom: 0;left: 50%;z-index: -1;}#sk-container-id-1 div.sk-parallel-item {display: flex;flex-direction: column;z-index: 1;position: relative;background-color: white;}#sk-container-id-1 div.sk-parallel-item:first-child::after {align-self: flex-end;width: 50%;}#sk-container-id-1 div.sk-parallel-item:last-child::after {align-self: flex-start;width: 50%;}#sk-container-id-1 div.sk-parallel-item:only-child::after {width: 0;}#sk-container-id-1 div.sk-dashed-wrapped {border: 1px dashed gray;margin: 0 0.4em 0.5em 0.4em;box-sizing: border-box;padding-bottom: 0.4em;background-color: white;}#sk-container-id-1 div.sk-label label {font-family: monospace;font-weight: bold;display: inline-block;line-height: 1.2em;}#sk-container-id-1 div.sk-label-container {text-align: center;}#sk-container-id-1 div.sk-container {/* jupyter's `normalize.less` sets `[hidden] { display: none; }` but bootstrap.min.css set `[hidden] { display: none !important; }` so we also need the `!important` here to be able to override the default hidden behavior on the sphinx rendered scikit-learn.org. See: https://github.com/scikit-learn/scikit-learn/issues/21755 */display: inline-block !important;position: relative;}#sk-container-id-1 div.sk-text-repr-fallback {display: none;}</style><div id=\"sk-container-id-1\" class=\"sk-top-container\"><div class=\"sk-text-repr-fallback\"><pre>SVC(class_weight=&#x27;balanced&#x27;)</pre><b>In a Jupyter environment, please rerun this cell to show the HTML representation or trust the notebook. <br />On GitHub, the HTML representation is unable to render, please try loading this page with nbviewer.org.</b></div><div class=\"sk-container\" hidden><div class=\"sk-item\"><div class=\"sk-estimator sk-toggleable\"><input class=\"sk-toggleable__control sk-hidden--visually\" id=\"sk-estimator-id-1\" type=\"checkbox\" checked><label for=\"sk-estimator-id-1\" class=\"sk-toggleable__label sk-toggleable__label-arrow\">SVC</label><div class=\"sk-toggleable__content\"><pre>SVC(class_weight=&#x27;balanced&#x27;)</pre></div></div></div></div></div>"
      ],
      "text/plain": [
       "SVC(class_weight='balanced')"
      ]
     },
     "execution_count": 37,
     "metadata": {},
     "output_type": "execute_result"
    }
   ],
   "source": [
    "svm_model = SVC(class_weight='balanced')\n",
    "svm_model.fit(x_train, y_train)\n"
   ]
  },
  {
   "cell_type": "code",
   "execution_count": 38,
   "id": "3e17b153-a110-4602-a655-157a748943fe",
   "metadata": {},
   "outputs": [
    {
     "name": "stdout",
     "output_type": "stream",
     "text": [
      "Accuracy: 0.9815\n",
      "Precision: 0.9693\n",
      "Recall: 0.9815\n",
      "F1-Score: 0.9743\n",
      "Cohen Kappa: 0.2222\n",
      "Confusion Matrix:\n",
      "[[   39     0     0    95]\n",
      " [    0     0     0   126]\n",
      " [    0     0     0    37]\n",
      " [   10     0     0 14170]]\n",
      "Classification Report:\n",
      "              precision    recall  f1-score   support\n",
      "\n",
      "       green       0.80      0.29      0.43       134\n",
      "      orange       0.00      0.00      0.00       126\n",
      "         red       0.00      0.00      0.00        37\n",
      "      yellow       0.98      1.00      0.99     14180\n",
      "\n",
      "    accuracy                           0.98     14477\n",
      "   macro avg       0.44      0.32      0.35     14477\n",
      "weighted avg       0.97      0.98      0.97     14477\n",
      "\n"
     ]
    }
   ],
   "source": [
    "\n",
    "accuracy = accuracy_score(y_test, y_pred)\n",
    "precision = precision_score(y_test, y_pred, average='weighted')\n",
    "recall = recall_score(y_test, y_pred, average='weighted')\n",
    "f1 = f1_score(y_test, y_pred, average='weighted')\n",
    "kappa = cohen_kappa_score(y_test, y_pred)\n",
    "conf_matrix = confusion_matrix(y_test, y_pred)\n",
    "\n",
    "print(f'Accuracy: {accuracy:.4f}')\n",
    "print(f'Precision: {precision:.4f}')\n",
    "print(f'Recall: {recall:.4f}')\n",
    "print(f'F1-Score: {f1:.4f}')\n",
    "print(f'Cohen Kappa: {kappa:.4f}')\n",
    "print('Confusion Matrix:')\n",
    "print(conf_matrix)\n",
    "print('Classification Report:')\n",
    "print(classification_report(y_test, y_pred))\n"
   ]
  },
  {
   "cell_type": "markdown",
   "id": "1c1fbb33-8ceb-48bf-94bf-5ab6f9c90e45",
   "metadata": {},
   "source": [
    "XGB Model"
   ]
  },
  {
   "cell_type": "code",
   "execution_count": 28,
   "id": "379cf323-feb7-43d8-89a0-db8b6d7e972f",
   "metadata": {},
   "outputs": [],
   "source": [
    "\n",
    "from sklearn.preprocessing import StandardScaler, LabelEncoder\n",
    "from xgboost import XGBClassifier\n",
    "from imblearn.over_sampling import SMOTE\n",
    "\n",
    "\n",
    "features = ['age', 'gender', 'chest pain type', 'blood pressure', 'cholesterol', 'max heart rate', 'plasma glucose', 'insulin', 'bmi', 'diabetes_pedigree', 'hypertension', 'heart_disease']\n",
    "x = data[features]\n",
    "y = data['triage']\n",
    "\n",
    "x['gender'].fillna(x['gender'].mode()[0], inplace=True)\n",
    "\n",
    "\n",
    "x = pd.get_dummies(x, columns=['gender', 'chest pain type'])\n",
    "\n",
    "\n",
    "label_encoder = LabelEncoder()\n",
    "y_encoded = label_encoder.fit_transform(y)\n",
    "\n",
    "\n",
    "x_train, x_test, y_train, y_test = train_test_split(x, y_encoded, test_size=0.2, random_state=42)\n",
    "\n",
    "smote = SMOTE(random_state=42)\n",
    "x_train_resampled, y_train_resampled = smote.fit_resample(x_train, y_train)\n",
    "\n",
    "scaler = StandardScaler()\n",
    "x_train_resampled = scaler.fit_transform(x_train_resampled)\n",
    "x_test = scaler.transform(x_test)\n"
   ]
  },
  {
   "cell_type": "code",
   "execution_count": 29,
   "id": "006594d5-3eb3-469f-b11d-92de574a1856",
   "metadata": {},
   "outputs": [],
   "source": [
    "# Train XGBoost model\n",
    "xgb_model = XGBClassifier()\n",
    "xgb_model.fit(x_train_resampled, y_train_resampled)\n",
    "\n",
    "y_pred = xgb_model.predict(x_test)\n"
   ]
  },
  {
   "cell_type": "code",
   "execution_count": 30,
   "id": "c7099b74-ed9e-41f5-86af-3cd3b5aeee6b",
   "metadata": {},
   "outputs": [
    {
     "name": "stdout",
     "output_type": "stream",
     "text": [
      "Accuracy: 0.9869\n",
      "Precision: 0.9864\n",
      "Recall: 0.9869\n",
      "F1-Score: 0.9866\n",
      "Cohen Kappa: 0.6591\n",
      "Confusion Matrix:\n",
      "[[   85     0     0    49]\n",
      " [    1    74     0    51]\n",
      " [    0     0    27    10]\n",
      " [   43    27     8 14102]]\n",
      "Classification Report:\n",
      "              precision    recall  f1-score   support\n",
      "\n",
      "           0       0.66      0.63      0.65       134\n",
      "           1       0.73      0.59      0.65       126\n",
      "           2       0.77      0.73      0.75        37\n",
      "           3       0.99      0.99      0.99     14180\n",
      "\n",
      "    accuracy                           0.99     14477\n",
      "   macro avg       0.79      0.74      0.76     14477\n",
      "weighted avg       0.99      0.99      0.99     14477\n",
      "\n"
     ]
    }
   ],
   "source": [
    "accuracy = accuracy_score(y_test, y_pred)\n",
    "precision = precision_score(y_test, y_pred, average='weighted')\n",
    "recall = recall_score(y_test, y_pred, average='weighted')\n",
    "f1 = f1_score(y_test, y_pred, average='weighted')\n",
    "kappa = cohen_kappa_score(y_test, y_pred)\n",
    "conf_matrix = confusion_matrix(y_test, y_pred)\n",
    "\n",
    "print(f'Accuracy: {accuracy:.4f}')\n",
    "print(f'Precision: {precision:.4f}')\n",
    "print(f'Recall: {recall:.4f}')\n",
    "print(f'F1-Score: {f1:.4f}')\n",
    "print(f'Cohen Kappa: {kappa:.4f}')\n",
    "print('Confusion Matrix:')\n",
    "print(conf_matrix)\n",
    "print('Classification Report:')\n",
    "print(classification_report(y_test, y_pred))\n"
   ]
  },
  {
   "cell_type": "markdown",
   "id": "11e0ffeb-c8b2-4214-b125-d06e92bb04ff",
   "metadata": {},
   "source": [
    "ANN(MLP)"
   ]
  },
  {
   "cell_type": "code",
   "execution_count": 32,
   "id": "e7436ab4-5f74-4fcf-aac6-4dfc40799191",
   "metadata": {},
   "outputs": [],
   "source": [
    "from sklearn.neural_network import MLPClassifier\n",
    "\n",
    "features = ['age', 'gender', 'chest pain type', 'blood pressure', 'cholesterol', 'max heart rate', 'plasma glucose', 'insulin', 'bmi', 'diabetes_pedigree', 'hypertension', 'heart_disease']\n",
    "x = data[features]\n",
    "y = data['triage']\n",
    "\n",
    "x['gender'].fillna(x['gender'].mode()[0], inplace=True)\n",
    "\n",
    "x = pd.get_dummies(x, columns=['gender', 'chest pain type'])\n",
    "\n",
    "label_encoder = LabelEncoder()\n",
    "y_encoded = label_encoder.fit_transform(y)\n",
    "\n",
    "x_train, x_test, y_train, y_test = train_test_split(x, y_encoded, test_size=0.2, random_state=42)\n",
    "\n",
    "smote = SMOTE(random_state=42)\n",
    "x_train_resampled, y_train_resampled = smote.fit_resample(x_train, y_train)\n",
    "\n",
    "scaler = StandardScaler()\n",
    "x_train_resampled = scaler.fit_transform(x_train_resampled)\n",
    "x_test = scaler.transform(x_test)\n",
    "\n",
    "mlp_model = MLPClassifier(hidden_layer_sizes=(100,), max_iter=300, random_state=42)\n",
    "\n",
    "mlp_model.fit(x_train_resampled, y_train_resampled)\n",
    "\n",
    "y_pred = mlp_model.predict(x_test)\n"
   ]
  },
  {
   "cell_type": "code",
   "execution_count": 33,
   "id": "796928ef-af28-408c-a8a6-65c8860b12e3",
   "metadata": {},
   "outputs": [
    {
     "name": "stdout",
     "output_type": "stream",
     "text": [
      "Accuracy: 0.9716\n",
      "Precision: 0.9779\n",
      "Recall: 0.9716\n",
      "F1-Score: 0.9744\n",
      "Cohen Kappa: 0.4334\n",
      "Confusion Matrix:\n",
      "[[   77     1     0    56]\n",
      " [    1    62     1    62]\n",
      " [    0     0    23    14]\n",
      " [  105   145    26 13904]]\n",
      "Classification Report:\n",
      "              precision    recall  f1-score   support\n",
      "\n",
      "           0       0.42      0.57      0.49       134\n",
      "           1       0.30      0.49      0.37       126\n",
      "           2       0.46      0.62      0.53        37\n",
      "           3       0.99      0.98      0.99     14180\n",
      "\n",
      "    accuracy                           0.97     14477\n",
      "   macro avg       0.54      0.67      0.59     14477\n",
      "weighted avg       0.98      0.97      0.97     14477\n",
      "\n"
     ]
    }
   ],
   "source": [
    "\n",
    "accuracy = accuracy_score(y_test, y_pred)\n",
    "precision = precision_score(y_test, y_pred, average='weighted')\n",
    "recall = recall_score(y_test, y_pred, average='weighted')\n",
    "f1 = f1_score(y_test, y_pred, average='weighted')\n",
    "kappa = cohen_kappa_score(y_test, y_pred)\n",
    "conf_matrix = confusion_matrix(y_test, y_pred)\n",
    "\n",
    "print(f'Accuracy: {accuracy:.4f}')\n",
    "print(f'Precision: {precision:.4f}')\n",
    "print(f'Recall: {recall:.4f}')\n",
    "print(f'F1-Score: {f1:.4f}')\n",
    "print(f'Cohen Kappa: {kappa:.4f}')\n",
    "print('Confusion Matrix:')\n",
    "print(conf_matrix)\n",
    "print('Classification Report:')\n",
    "print(classification_report(y_test, y_pred))"
   ]
  },
  {
   "cell_type": "markdown",
   "id": "8d21593b-e22a-4b6b-a64b-be0df2705b4b",
   "metadata": {},
   "source": [
    "RESULT\n"
   ]
  },
  {
   "cell_type": "code",
   "execution_count": 1,
   "id": "d1e75bce-82e1-4905-a4e0-548a79d8e7cd",
   "metadata": {},
   "outputs": [
    {
     "name": "stdout",
     "output_type": "stream",
     "text": [
      "SVM Results: (0.5997098846446087, 0.97547480346544, 0.5997098846446087, 0.732284393543, 0.05069215537477456, array([[ 106,    5,    4,   19],\n",
      "       [   7,   89,   15,   15],\n",
      "       [   0,    3,   26,    8],\n",
      "       [2219, 2034, 1466, 8461]], dtype=int64), '              precision    recall  f1-score   support\\n\\n           0       0.05      0.79      0.09       134\\n           1       0.04      0.71      0.08       126\\n           2       0.02      0.70      0.03        37\\n           3       1.00      0.60      0.75     14180\\n\\n    accuracy                           0.60     14477\\n   macro avg       0.27      0.70      0.24     14477\\nweighted avg       0.98      0.60      0.73     14477\\n')\n",
      "XGBoost Results: (0.9751329695378876, 0.9815461140285546, 0.9751329695378876, 0.9777972475631732, 0.5146725390843692, array([[   92,     0,     0,    42],\n",
      "       [    1,    78,     0,    47],\n",
      "       [    0,     0,    27,    10],\n",
      "       [  115,   129,    16, 13920]], dtype=int64), '              precision    recall  f1-score   support\\n\\n           0       0.44      0.69      0.54       134\\n           1       0.38      0.62      0.47       126\\n           2       0.63      0.73      0.68        37\\n           3       0.99      0.98      0.99     14180\\n\\n    accuracy                           0.98     14477\\n   macro avg       0.61      0.75      0.67     14477\\nweighted avg       0.98      0.98      0.98     14477\\n')\n",
      "MLP Results: (0.8420943565655868, 0.9752724252026557, 0.8420943565655868, 0.8987813333926017, 0.12909017004446288, array([[   89,    14,     0,    31],\n",
      "       [    7,    75,    10,    34],\n",
      "       [    3,     2,    22,    10],\n",
      "       [  614,  1386,   175, 12005]], dtype=int64), '              precision    recall  f1-score   support\\n\\n           0       0.12      0.66      0.21       134\\n           1       0.05      0.60      0.09       126\\n           2       0.11      0.59      0.18        37\\n           3       0.99      0.85      0.91     14180\\n\\n    accuracy                           0.84     14477\\n   macro avg       0.32      0.68      0.35     14477\\nweighted avg       0.98      0.84      0.90     14477\\n')\n"
     ]
    }
   ],
   "source": [
    "import numpy as np\n",
    "import pandas as pd\n",
    "from sklearn.model_selection import train_test_split\n",
    "from sklearn.svm import SVC\n",
    "from xgboost import XGBClassifier\n",
    "from sklearn.neural_network import MLPClassifier\n",
    "from sklearn.metrics import accuracy_score, precision_score, recall_score, f1_score, cohen_kappa_score, confusion_matrix, classification_report\n",
    "from imblearn.over_sampling import SMOTE\n",
    "import joblib\n",
    "\n",
    "\n",
    "data = pd.read_csv('newpatient_priority.csv')\n",
    "\n",
    "\n",
    "features = ['age', 'gender', 'chest pain type', 'blood pressure', 'cholesterol', 'max heart rate', 'plasma glucose', 'insulin', 'bmi', 'diabetes_pedigree', 'hypertension', 'heart_disease']\n",
    "x = data[features]\n",
    "y = data['triage']\n",
    "\n",
    "\n",
    "y_encoded = y.astype('category').cat.codes\n",
    "\n",
    "\n",
    "x_train, x_test, y_train, y_test = train_test_split(x, y_encoded, test_size=0.2, random_state=42)\n",
    "\n",
    "\n",
    "smote = SMOTE(random_state=42)\n",
    "x_train_resampled, y_train_resampled = smote.fit_resample(x_train, y_train)\n",
    "\n",
    "\n",
    "svm_model = SVC()\n",
    "svm_model.fit(x_train_resampled, y_train_resampled)\n",
    "\n",
    "\n",
    "xgb_model = XGBClassifier()\n",
    "xgb_model.fit(x_train_resampled, y_train_resampled)\n",
    "\n",
    "\n",
    "mlp_model = MLPClassifier(max_iter=500)\n",
    "mlp_model.fit(x_train_resampled, y_train_resampled)\n",
    "\n",
    "\n",
    "joblib.dump(svm_model, 'svm_model.pkl')\n",
    "joblib.dump(xgb_model, 'xgb_model.pkl')\n",
    "joblib.dump(mlp_model, 'mlp_model.pkl')\n",
    "\n",
    "\n",
    "def evaluate_model(model, x_test, y_test):\n",
    "    y_pred = model.predict(x_test)\n",
    "    accuracy = accuracy_score(y_test, y_pred)\n",
    "    precision = precision_score(y_test, y_pred, average='weighted')\n",
    "    recall = recall_score(y_test, y_pred, average='weighted')\n",
    "    f1 = f1_score(y_test, y_pred, average='weighted')\n",
    "    kappa = cohen_kappa_score(y_test, y_pred)\n",
    "    conf_matrix = confusion_matrix(y_test, y_pred)\n",
    "    class_report = classification_report(y_test, y_pred)\n",
    "    return accuracy, precision, recall, f1, kappa, conf_matrix, class_report\n",
    "\n",
    "\n",
    "svm_results = evaluate_model(svm_model, x_test, y_test)\n",
    "print(\"SVM Results:\", svm_results)\n",
    "\n",
    "\n",
    "\n",
    "\n",
    "xgb_results = evaluate_model(xgb_model, x_test, y_test)\n",
    "print(\"XGBoost Results:\", xgb_results)\n",
    "\n",
    "\n",
    "mlp_results = evaluate_model(mlp_model, x_test, y_test)\n",
    "print(\"MLP Results:\", mlp_results)\n",
    "\n"
   ]
  },
  {
   "cell_type": "code",
   "execution_count": null,
   "id": "83333606-d20d-4b81-837e-fa247ad57e0c",
   "metadata": {},
   "outputs": [],
   "source": []
  }
 ],
 "metadata": {
  "kernelspec": {
   "display_name": "Python 3 (ipykernel)",
   "language": "python",
   "name": "python3"
  },
  "language_info": {
   "codemirror_mode": {
    "name": "ipython",
    "version": 3
   },
   "file_extension": ".py",
   "mimetype": "text/x-python",
   "name": "python",
   "nbconvert_exporter": "python",
   "pygments_lexer": "ipython3",
   "version": "3.11.4"
  }
 },
 "nbformat": 4,
 "nbformat_minor": 5
}
